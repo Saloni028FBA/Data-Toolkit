{
  "nbformat": 4,
  "nbformat_minor": 0,
  "metadata": {
    "colab": {
      "provenance": []
    },
    "kernelspec": {
      "name": "python3",
      "display_name": "Python 3"
    },
    "language_info": {
      "name": "python"
    }
  },
  "cells": [
    {
      "cell_type": "markdown",
      "source": [
        "#### Data Toolkit\n",
        "## Theory Part"
      ],
      "metadata": {
        "id": "wwltzTrvd3OZ"
      }
    },
    {
      "cell_type": "markdown",
      "source": [
        "1. What is NumPy, and why is it widely used in Python?\n",
        "\n",
        "   - NumPy (short for Numerical Python) is a powerful open-source library in Python that's used for scientific computing and numerical operations.\n",
        "\n",
        "   - It provides support for multi-dimensional arrays and matrices, along with a vast collection of mathematical functions to operate on these data structures efficiently.\n",
        "\n",
        "   - Why is NumPy Widely Used?\n",
        "    \n",
        "     1. Efficient Array Operations –>  NumPy's arrays (ndarray) are faster and more memory-efficient than Python's built-in lists because they provide a contiguous memory block optimized for numerical computations and better cache utilization.\n",
        "\n",
        "     2. Vectorized Computations –> It eliminates the need for explicit loops by supporting element-wise operations, making numerical code more concise and performant.\n",
        "\n",
        "     3. Integration with Other Libraries –> Libraries like Pandas, SciPy, Matplotlib, and TensorFlow heavily rely on NumPy for data manipulation, scientific computing, and machine learning tasks.\n",
        "\n",
        "     4. Broad Mathematical Functions -> Includes functions for statistics, trigonometry, linear algebra, sorting, and more.Supports broadcasting, allowing operations on arrays of different shapes.\n",
        "\n",
        "     5. Interoperability -> Integrates well with other scientific libraries like SciPy, Pandas, Matplotlib, and Scikit-learn. Used as the backbone for many data science and machine learning tools,enabling high-performance computing applications."
      ],
      "metadata": {
        "id": "K6AIPgodd7AI"
      }
    },
    {
      "cell_type": "markdown",
      "source": [
        "2. How does broadcasting work in NumPy?\n",
        "\n",
        "  - Broadcasting is a powerful mechanism in NumPy that allows arithmetic operations between arrays of different shapes by automatically expanding smaller arrays to match the shape of larger ones, without making unnecessary copies of data.\n",
        "\n",
        "  -  How Broadcasting Works:\n",
        "\n",
        "     - When performing operations between two arrays, NumPy compares their shapes from right to left.\n",
        "     \n",
        "     - Two dimensions are compatible when:\n",
        "\n",
        "        1. They are equal, or\n",
        "\n",
        "        2. One of them is 1\n",
        "\n",
        "      - If the shapes are compatible, NumPy will stretch (broadcast) the smaller array across the larger one so that element-wise operations can occur.\n",
        "\n",
        "   - How Broadcasting Works (Step-by-Step):\n",
        "\n",
        "      1. Align Shapes from Right to Left: Compare dimensions starting from the last axis.\n",
        "      - Example:\n",
        "\n",
        "      A.shape = (3, 4)\n",
        "\n",
        "      B.shape = (4,)\n",
        "\n",
        "      → B is treated as (1, 4) (padded with 1 on the left).\n",
        "      \n",
        "     2. Stretch Dimensions of Size 1 -> If one array has 1 in a dimension and the other has N, the 1 is broadcast to N.\n",
        "     - Example:\n",
        "     \n",
        "      A.shape = (3, 4)\n",
        "\n",
        "      B.shape = (1, 4)\n",
        "     \n",
        "      → B is stretched to (3, 4) (copied 3 times along axis 0).\n",
        "\n",
        "     3. Fail if Incompatible:\n",
        "     \n",
        "     - Exmple:\n",
        "     \n",
        "      A.shape = (3, 4)\n",
        "     \n",
        "      B.shape = (3,)\n",
        "     \n",
        "      → Fails (last dimensions 4 and 3 do not match)."
      ],
      "metadata": {
        "id": "TncZSDLBiLiY"
      }
    },
    {
      "cell_type": "markdown",
      "source": [
        "3. What is a Pandas DataFrame?\n",
        "\n",
        "   - A Pandas DataFrame is a two-dimensional, tabular data structure (similar to a spreadsheet or SQL table) that stores data in rows and columns.\n",
        "   \n",
        "   - It is the most widely used object in the Pandas library (built on top of NumPy) and is designed for data manipulation and analysis in Python.\n",
        "\n",
        "   - Key Features of a DataFrame:\n",
        "      \n",
        "      1. Columns Can Have Different Data Types -> Each column can be of a different type (int, float, string, datetime, etc.).\n",
        "\n",
        "      2. Labeled Axes (Rows & Columns) -> Rows are indexed (default: 0, 1, 2,..., but can be customized) and columns have names (like in a database table).\n",
        "\n",
        "      3. Size Mutable -> Columns can be added/removed, and DataFrames can be resized.\n",
        "\n",
        "      4. Powerful Data Operations -> Supports filtering, grouping, merging, reshaping, and handling missing data. Integrates well with NumPy, Matplotlib, and Scikit-learn.\n",
        "\n",
        "      5. Optimized for Performance -> Built on NumPy arrays, making operations fast even on large datasets.\n",
        "\n"
      ],
      "metadata": {
        "id": "LvDv1sU3mg0E"
      }
    },
    {
      "cell_type": "markdown",
      "source": [
        "4. Explain the use of the groupby() method in Pandas.\n",
        "\n",
        "   - The groupby() method in Pandas is one of the most powerful and frequently used tools for data aggregation and analysis.\n",
        "   \n",
        "   - It allows you to split your data into groups based on certain criteria, apply functions to each group independently (like sum(), mean(), count(), etc), and then combine the results.\n",
        "\n",
        "   - How groupby() Works:\n",
        "\n",
        "      1. Split: Divide the DataFrame into groups based on one or more keys.\n",
        "      \n",
        "      2. Apply: Apply a function (aggregation, transformation, or filtering) to each group.\n",
        "      \n",
        "      3. Combine: Merge the results into a new DataFrame\n",
        "\n",
        "   - Syntax => [df.groupby(by=None, axis=0, level=None, as_index=True, sort=True, ...)]"
      ],
      "metadata": {
        "id": "0gAG_swfqCMD"
      }
    },
    {
      "cell_type": "markdown",
      "source": [
        "5. Why is Seaborn preferred for statistical visualizations?\n",
        "\n",
        "   - Seaborn is preferred for statistical visualizations in Python because it builds on top of Matplotlib and makes it easier, more beautiful, and more powerful to create meaningful plots, especially for statistical analysis.\n",
        "\n",
        "   - Here’s why it stands out:\n",
        "\n",
        "      1.  Beautiful & Readable Plots by Default -> Seaborn comes with attractive default styles and color palettes, so your charts look professional without extra styling.\n",
        "\n",
        "      2. Works Seamlessly with Pandas -> It directly supports Pandas DataFrames, so you can pass column names instead of having to pull arrays manually making it easier to handle structured datasets.\n",
        "\n",
        "      3. Statistical Insight Built In -> Plots like sns.boxplot(), sns.violinplot(), or sns.barplot() compute and display summary statistics (mean, CI, quartiles) without manual calculations.\n",
        "\n",
        "      4.  Advanced Features ->\n",
        "      \n",
        "          - Faceting: Create multi-plot grids (sns.FacetGrid, sns.pairplot) to explore high-dimensional data.\n",
        "          \n",
        "          - Regression diagnostics: sns.residplot() for analyzing model residuals.\n",
        "          \n",
        "          - Time-series patterns: sns.lineplot() with automatic aggregation and confidence intervals."
      ],
      "metadata": {
        "id": "4EvZpXuWrPLZ"
      }
    },
    {
      "cell_type": "markdown",
      "source": [
        "6. What are the differences between NumPy arrays and Python lists?\n",
        "\n",
        "   - Both NumPy arrays and Python lists can hold collections of items, they are designed for very different purposes. They have fundamental differences in performance, functionality, and use cases.\n",
        "\n",
        "     A. NumPy arrays:\n",
        "\n",
        "        1. NumPy arrays are much faster than Python lists, especially for large data sets—because they are implemented in C and use contiguous memory blocks.\n",
        "\n",
        "        2. NumPy arrays are homogeneous: all elements must be of the same data type (e.g., all integers, all floats).\n",
        "\n",
        "        3. Functionality (Math & Operations): NumPy arrays support element-wise operations (no loops) (e.g., add, subtract, multiply entire arrays).\n",
        "\n",
        "        4. Built-in methods: NumPy comes with tons of powerful built-in method .mean(), .std(), .reshape(), etc.Best for numerical Computing math, stats, ML (e.g., Pandas, SciPy, TensorFlow)\n",
        "\n",
        "        5. Memory-efficient:  NumPy arrays are more memory efficiet as they use less space for numeric data.\n",
        "\n",
        "        6. Multidimensional Support: NumPy support for n-D arrays (e.g., matrices).\n",
        "        \n",
        "    B. Python lists:\n",
        "        \n",
        "        1. Python lists are slower because they store references to objects and don’t use contiguous memory.\n",
        "\n",
        "        2. Python lists are heterogeneous: they can contain elements of different types (e.g., a string, an integer, a float in the same list).\n",
        "\n",
        "        3. Functionality (Math & Operations): Python lists do not support element-wise operations, requires a loop or list comprehension  (e.g., [x+1 for x in lst]).\n",
        "\n",
        "        4. Built-in methods: Python lists require manual implementation or using other libraries.\n",
        "\n",
        "        5. Memory-efficient: Python lists store pointers to objects, which takes more memory.\n",
        "\n",
        "        6. Multidimensional Support: Python lists only support 1D (nested lists for higher dims)."
      ],
      "metadata": {
        "id": "O-iDm__Auzej"
      }
    },
    {
      "cell_type": "markdown",
      "source": [
        "7. What is a heatmap, and when should it be used?\n",
        "\n",
        "   - A heatmap is a data visualization technique that uses color to represent values in a matrix. It’s like a colorful table that makes patterns, relationships, and trends in data easier to spot at a glance.\n",
        "\n",
        "   - Key Features:\n",
        "   \n",
        "      - Color Intensity = Value Magnitude (e.g., darker/lighter shades).\n",
        "      \n",
        "      - Rows & Columns represent categories or dimensions.\n",
        "      \n",
        "      - Best for 2D data (matrices, tables, or correlation matrices).\n",
        "   \n",
        "   - When to Use a Heatmap?\n",
        "\n",
        "      1. Correlation Matrices: Show how strongly different variables are related (common in data analysis).\n",
        "      \n",
        "      - Example: How is height correlated with weight, age, income, etc.?\n",
        "\n",
        "      2. Missing Values: Visualize where data is missing in large datasets.Highlight missing values in a dataset.\n",
        "\n",
        "      3. Time-Series Patterns: Show frequency or intensity over time.\n",
        "      \n",
        "      - Example: Website traffic by hour/day.\n",
        "\n",
        "      4.  Geospatial Data: Represent density (e.g., population heatmaps on maps).\n",
        "\n",
        "      5. Comparing Metrics Across Categories: Example: Test scores across students and subjects, or product sales across stores.\n"
      ],
      "metadata": {
        "id": "OaeDH7d_zJzO"
      }
    },
    {
      "cell_type": "markdown",
      "source": [
        "8. What does the term “vectorized operation” mean in NumPy?\n",
        "\n",
        "   - In NumPy, a vectorized operation refers to performing operations on entire arrays (vectors, matrices, etc.) without using explicit loops. This is one of the biggest reasons NumPy is so powerful and fast.\n",
        "\n",
        "   - Vectorization = Loop-free array operations\n",
        "\n",
        "   - Instead of processing elements one by one (as in Python lists), NumPy applies operations element-wise across entire arrays.\n",
        "\n",
        "   - Key Characteristics of Vectorization:\n",
        "      \n",
        "      1. No Explicit Loops -> Operations are applied to entire arrays at once. Example: Adding two arrays.\n",
        "\n",
        "      2. Optimized Performance -> Runs 10-100x faster than Python loops due to Contiguous memory (no pointer chasing). Single Instruction, Multiple Data (SIMD) CPU optimizations.\n",
        "\n",
        "      3. Broadcasting Support -> Automatically applies operations between arrays of different shapes (e.g., scalar + array).\n",
        "\n",
        "      4. Universal Functions (ufunc) -> NumPy provides vectorized math functions (e.g., np.sin(), np.exp()):"
      ],
      "metadata": {
        "id": "U6eyLnAn06Pv"
      }
    },
    {
      "cell_type": "markdown",
      "source": [
        "9.  How does Matplotlib differ from Plotly?\n",
        "\n",
        "   - Both Matplotlib and Plotly are popular Python libraries for data visualization, but they differ significantly in design, interactivity, and use cases.\n",
        "\n",
        "   - Here’s a detailed comparison:\n",
        "\n",
        "      A. Matplotlib: The OG of Python plotting — reliable, powerful, and highly customizable.\n",
        "      \n",
        "      1. Type: Static plotting library publication-quality plots (with some interactivity via plugins)\n",
        "\n",
        "      2. Design: Low-level, imperative (explicit control over every element)\n",
        "      \n",
        "      3. Best for: Quick plots, publication-quality visuals, scientific work\n",
        "      \n",
        "      4. Output: Static images (PNG, PDF, SVG), embedded plots in Jupyter notebooks\n",
        "      \n",
        "      5. Customization: Very flexible but sometimes verbose and complex\n",
        "      \n",
        "      6. Learning curve: Moderate — Steeper learning curve (more code for complex plots) and fine-grained control (good for customization).\n",
        "\n",
        "      7. Supported Plot Types: Basic plots: line, bar, scatter, histograms and limited 3D support (mplot3d).\n",
        "\n",
        "     B. Plotly: Interactive, beautiful, and made for the web — great for dashboards and user engagement.\n",
        "     \n",
        "      1. Type: Interactive plotting library (browser-based, web-based visualizations)\n",
        "\n",
        "      2. Design: High-level, declarative (simpler syntax for complex plots)\n",
        "      \n",
        "      3. Best for: Dashboards, web apps, exploratory data analysis\n",
        "      \n",
        "      4. Output: HTML, PNG, interactive web apps, (interactive) can also export static images\n",
        "      \n",
        "      5. Customization: High-level and clean syntax, especially with plotly.express\n",
        "      \n",
        "      6. Learning curve: Easier for quick, high-level plots (px.line, px.scatter)and less control over low-level elements (but improving)\n",
        "\n",
        "      7. Supported Plot Types: Advanced plots: 3D, animations, maps, financial charts and rich 3D, animations, geographic maps."
      ],
      "metadata": {
        "id": "jb2PhiF42XXs"
      }
    },
    {
      "cell_type": "markdown",
      "source": [
        "10. What is the significance of hierarchical indexing in Pandas?\n",
        "\n",
        "  - Hierarchical indexing (or MultiIndex) in Pandas allows you to store and manipulate high-dimensional data in a 2D DataFrame by creating multiple levels of row or column labels.\n",
        "\n",
        "  - This is particularly useful for:\n",
        "\n",
        "     1. Handles Complex Data Naturally -> Hierarchical indexing lets you model multi-dimensional relationships (like Year → Quarter → Region) without using multiple DataFrames.\n",
        "\n",
        "     2. Enables Powerful Grouping and Aggregation -> You can easily group or slice your data by one level of the index and operate on others.\n",
        "\n",
        "     3. Efficient Data Selection –>  Enables easy slicing and filtering based on different index levels.\n",
        "\n",
        "     4. Enhances Pivoting and Reshaping –> Works well with methods like .stack() and .unstack() for restructuring data.\n",
        "\n",
        "     5. Facilitates Aggregation –> Allows group-based calculations without extra transformations.\n",
        "\n",
        "  - When to Use It:\n",
        "  \n",
        "     - When working with multi-variable data (e.g., sales by region and quarter)\n",
        "\n",
        "     - When doing time series analysis (e.g., data indexed by date and category)\n",
        "\n",
        "     - For pivot tables, panel data, or multi-dimensional statistics"
      ],
      "metadata": {
        "id": "hCDj7Lvq56GG"
      }
    },
    {
      "cell_type": "markdown",
      "source": [
        "11. What is the role of Seaborn’s pairplot() function?\n",
        "\n",
        "    - The pairplot() function in Seaborn is used to create a grid of scatter plots (pairwise plots) for visualizing the relationships between multiple variables in a DataFrame.\n",
        "\n",
        "    -  It’s a very useful tool for exploratory data analysis (EDA) when you want to quickly check for patterns, correlations, or trends between variables.\n",
        "\n",
        "    - Key Features of pairplot():\n",
        "\n",
        "       1. Scatter Plots for Pairwise Relationships -> Plots pairwise relationships between numerical variables as scatter plots.\n",
        "\n",
        "       2. Histograms (Diagonal Plots) -> Shows the distribution of each variable along the diagonal.\n",
        "\n",
        "       3. Supports Categorical Variables -> Can use hue to color points by a categorical variable, revealing clusters or trends.\n",
        "\n",
        "       4. Customizable Plot Types -> Can replace scatter plots with regression lines (kind='reg') or kernel density estimates (kind='kde').\n",
        "\n",
        "       5. Automatic Handling of Numerical Data -> Works best with numerical columns but can include categorical variables via hue.\n",
        "\n",
        "    - When to Use pairplot():\n",
        "    \n",
        "      - Quick exploration of relationships between multiple variables.\n",
        "      \n",
        "      - Identifying correlations or clusters.\n",
        "      \n",
        "      - Comparing distributions across categories."
      ],
      "metadata": {
        "id": "gNOUQwDa7Xwn"
      }
    },
    {
      "cell_type": "markdown",
      "source": [
        "12. What is the purpose of the describe() function in Pandas?\n",
        "\n",
        "    - The describe() function in Pandas is used to generate summary statistics of a DataFrame or Series.\n",
        "    \n",
        "    - It's a quick and convenient way to understand the central tendency, dispersion, and shape of a dataset’s distribution—especially for numerical data. (helping you understand key characteristics of your dataset at a glance).\n",
        "\n",
        "    - Key Features of describe():\n",
        "\n",
        "      1. Numerical Data Summary (Default Behavior) -> For numeric columns, it computes:\n",
        "\n",
        "         1. Count: Number of non-null values.\n",
        "         \n",
        "         2. Mean: Average value.\n",
        "         \n",
        "         3. Std: Standard deviation (measure of spread).\n",
        "         \n",
        "         4. Min: Minimum value.\n",
        "         \n",
        "         5. 25% (Q1): First quartile (25th percentile).\n",
        "         \n",
        "         6. 50% (Median): Second quartile (50th percentile).\n",
        "         \n",
        "         7. 75% (Q3): Third quartile (75th percentile).\n",
        "         \n",
        "         8. Max: Maximum value.\n",
        "\n",
        "      2. Categorical Data Summary -> For categorical/object columns (if included via include='object'), it shows:\n",
        "      \n",
        "         1. Count: Non-null entries.\n",
        "         \n",
        "         2. Unique: Number of distinct categories.\n",
        "         \n",
        "         3. Top: Most frequent category.\n",
        "         \n",
        "         4. Freq: Count of the most frequent category."
      ],
      "metadata": {
        "id": "rPzIiXMmO9Nd"
      }
    },
    {
      "cell_type": "markdown",
      "source": [
        "13. Why is handling missing data important in Pandas?\n",
        "\n",
        "   - Handling missing data in Pandas (and data analysis in general) is crucial because missing values (NaN, None, or NA) can lead to incorrect analyses, biased results, or even runtime errors in machine learning models.\n",
        "\n",
        "   - Why It's Important:\n",
        "\n",
        "      1. Accuracy of Results -> Missing values can skew your summary statistics (like mean, median, std), leading to wrong conclusions.\n",
        "\n",
        "      2. Error Prevention -> Many functions in Pandas, Scikit-learn, and other libraries will throw errors if they encounter NaNs (missing values) during computation or model fitting.\n",
        "      \n",
        "      3. Model Performance -> Machine learning models don’t handle missing values well by default. They can will raise errors.\n",
        "\n",
        "      4. Maintain Data Integrity -> Missing data may indicate problems in data collection (e.g., sensor failure, survey non-response). Ignoring them could hide may hide patterns or introduce bias issues.\n",
        "\n",
        "      5. Improve Efficiency -> Some operations (e.g., sorting, grouping) behave unpredictably with missing values. Memory usage can be optimized by handling or removing null values."
      ],
      "metadata": {
        "id": "7lmx4M8FQpfW"
      }
    },
    {
      "cell_type": "markdown",
      "source": [
        "14. What are the benefits of using Plotly for data visualization?\n",
        "\n",
        "   - Using Plotly for data visualization offers a ton of benefits—especially if you're working on interactive dashboards, data storytelling, or web apps.\n",
        "   \n",
        "   - It's one of the most powerful and flexible Python libraries for creating interactive, publication-quality visuals, offers several advantages over traditional tools like Matplotlib or Seaborn.\n",
        "\n",
        "   - Top Benefits of Using Plotly:\n",
        "\n",
        "      1. Interactivity by Default -> Unlike static plots (e.g., with Matplotlib), Plotly charts are interactive:\n",
        "      \n",
        "        - Zoom, pan, hover tooltips\n",
        "        \n",
        "        - Click to isolate data\n",
        "        \n",
        "        - Real-time updates (in dashboards)\n",
        "\n",
        "      2.  Beautiful, High-Quality Visuals -> Clean, modern, and customizable aesthetics—great for reports and presentations.\n",
        "\n",
        "      3. Wide Variety of Chart Types Supports:\n",
        "      \n",
        "        - Line, bar, scatter, pie, and box plots\n",
        "        \n",
        "        - Heatmaps, treemaps, sunbursts\n",
        "        \n",
        "        - 3D charts, maps (with Mapbox), and more\n",
        "\n",
        "      4. Easy Integration with Dash -> Seamlessly integrates with Dash, a Python framework to build web-based dashboards—no need to learn JavaScript or React.\n",
        "\n",
        "      5. Highly Customizable -> You can tweak almost every part of the chart: layout, annotations, axes, legends, colors, and tooltips.\n",
        "\n",
        "      6. Cross-Platform Compatibility -> Works in Jupyter notebooks, web browsers, mobile devices, and even exports to HTML for easy sharing.\n",
        "\n",
        "      7. Open Source and Free -> Most of its features are available under an open-source license (Plotly.py is MIT-licensed)."
      ],
      "metadata": {
        "id": "Byy3WhkjSmJv"
      }
    },
    {
      "cell_type": "markdown",
      "source": [
        "15. How does NumPy handle multidimensional arrays?\n",
        "\n",
        "    - NumPy (Numerical Python) is the backbone of numerical computing in Python, and its core feature is the ndarray (N-dimensional array), which efficiently stores and manipulates large, homogeneous datasets.\n",
        "\n",
        "    - A multidimensional array in NumPy is just an array with more than one axis:\n",
        "        \n",
        "        1. 1D array = vector\n",
        "        \n",
        "        2. 2D array = matrix (rows & columns)\n",
        "        \n",
        "        3. 3D+ = tensor (used in image/video data, deep learning, etc.)\n",
        "    \n",
        "    - Here’s how NumPy handles multidimensional arrays:\n",
        "\n",
        "       1. Homogeneous Data Type -> All elements in a NumPy array must be of the same data type (e.g., int32, float64).This ensures memory efficiency and fast computations.\n",
        "\n",
        "       2. Fixed-Size & Contiguous Memory -> Arrays have a fixed size (defined at creation).Data is stored in contiguous memory blocks, enabling vectorized operations (no loops needed) and making operations fast using vectorized C under the hood.\n",
        "\n",
        "       3. Broadcasting -> It enables operations between arrays of different shapes by stretching smaller arrays to match larger ones, avoiding explicit loops.\n",
        "\n",
        "       4. Indexing & Slicing -> NumPy allows advanced indexing techniques, including slicing (arr[1:3, :]), Boolean indexing, and even fancy indexing for selecting specific elements."
      ],
      "metadata": {
        "id": "Doz22it2hYxV"
      }
    },
    {
      "cell_type": "markdown",
      "source": [
        "16. What is the role of Bokeh in data visualization?\n",
        "\n",
        "    - Bokeh is a powerful Python library designed for creating interactive, web-based visualizations. It’s particularly useful for building dynamic dashboards, real-time data apps, and complex plots that require user interaction without needing to write JavaScript.\n",
        "\n",
        "    - Role of Bokeh in Data Visualization:\n",
        "       \n",
        "       1. Interactive Visualizations -> Unlike static visualization libraries (e.g., Matplotlib), Bokeh enables interactive elements like zooming, panning, and hovering over data points.\n",
        "\n",
        "       2. Web-Friendly Output -> Generates browser-based output using HTML, JavaScript, or can be embedded into Flask/Django web apps that can run in any modern web browser making it ideal for dashboards and web apps.\n",
        "\n",
        "       3. High-Level and Low-Level APIs -> It provides an easy-to-use high-level API (bokeh.plotting) for quick visualizations and a flexible low-level API (bokeh.models) for customizations.\n",
        "\n",
        "       4. Streaming and Real-Time Data: It supports dynamic updates, perfect for visualizing constantly changing data in applications like financial monitoring or live analytics.\n",
        "\n",
        "       5.  Customizable and Scalable ->Fine control over layout, axes, tools, and styling. Can handle large data sets more efficiently than some other plotting libraries.\n",
        "\n",
        "       6. Integration with Pandas and NumPy -> Bokeh works seamlessly with popular data structures, making it easy to visualize real-world datasets."
      ],
      "metadata": {
        "id": "Qcw3xRPtqVej"
      }
    },
    {
      "cell_type": "markdown",
      "source": [
        "17. Explain the difference between apply() and map() in Pandas\n",
        "\n",
        "   - Both apply() and map() are functions used for element-wise operations in Pandas, but they serve different purposes and work on different objects.\n",
        "\n",
        "     A. map():\n",
        "\n",
        "        1. Works only on Series objects (i.e., a single column or 1D only).\n",
        "\n",
        "        2. Used to apply a function element-wise to each value in the Series.\n",
        "        \n",
        "        3. Ideal for operations like transformations, substitutions, or mapping values.\n",
        "\n",
        "        4. Accepts functions, dictionaries, or another Series for mapping.\n",
        "\n",
        "        5. map() is limited to Series, ideal for simple transformations.\n",
        "\n",
        "     B. apply():\n",
        "\n",
        "        1. Works on both Series and DataFrames (1D or 2D).\n",
        "        \n",
        "        2. Can apply functions element-wise or row/column-wise  (using axis=0 for columns, axis=1 for rows).\n",
        "        \n",
        "        3. More flexible—can handle complex operations and even return multiple values and complex transformations (e.g., scaling, custom aggregations).\n",
        "\n",
        "        4. Slower than map() for simple element-wise ops (due to overhead).\n",
        "\n",
        "        5. Accept functions (can return any type)."
      ],
      "metadata": {
        "id": "BRtSM5oOseoq"
      }
    },
    {
      "cell_type": "markdown",
      "source": [
        "18.  What are some advanced features of NumPy?\n",
        "\n",
        "    - NumPy is a powerhouse for numerical computing in Python, and while many users are familiar with its basics, its advanced features unlock even greater performance and functionality.\n",
        "\n",
        "    - NumPy offers several powerful advanced features that make it a crucial library for scientific computing and high-performance data processing.\n",
        "\n",
        "    - Here are some standout capabilities:\n",
        "\n",
        "       1. Broadcasting -> Allows arrays of different shapes to interact seamlessly in arithmetic operations without explicit looping.\n",
        "\n",
        "       2. Vectorized Operations -> NumPy operates on entire arrays at once, optimizing performance over traditional Python loops.\n",
        "\n",
        "       3. Masked Arrays -> Used for handling missing or invalid values without affecting computations.\n",
        "\n",
        "       4. Memory Mapping -> Enables loading large datasets without loading everything into memory, improving efficiency.\n",
        "\n",
        "       5. Fast Fourier Transform (FFT) -> Used for signal processing and frequency analysis.\n",
        "\n",
        "       6. Linear Algebra Operations -> NumPy provides a comprehensive suite for matrix manipulations."
      ],
      "metadata": {
        "id": "raHdSoV1wOp0"
      }
    },
    {
      "cell_type": "markdown",
      "source": [
        "19. How does Pandas simplify time series analysis?\n",
        "\n",
        "   - Pandas is a game-changer for time series analysis in Python, offering built-in tools to handle dates, resample data, and compute rolling statistics effortlessly.\n",
        "\n",
        "   - Here’s how it simplifies the process:\n",
        "\n",
        "      1. Built-in Time Series Indexing -> The DatetimeIndex allows efficient indexing and slicing based on dates and times.\n",
        "\n",
        "      2. Resampling -> The .resample() method lets you easily convert time series data to a different frequency (e.g., daily to monthly), and apply aggregation functions like mean, sum, etc.\n",
        "\n",
        "      3. Handling Missing Time Series Data -> fillna() and interpolate() help manage gaps in data.\n",
        "\n",
        "      4. Parsing Dates -> Pandas can automatically convert strings to datetime objects using pd.to_datetime(), making date parsing seamless.\n",
        "\n",
        "      5. Frequency Conversion -> You can define and convert between different time frequencies using aliases like 'D' (day), 'M' (month), 'H' (hour), etc.\n",
        "\n",
        "      6. Time Zone Handling -> Pandas makes time zone conversions seamless with the tz_localize() and tz_convert() functions.\n",
        "\n",
        "      7. Rolling & Expanding Window Functions -> With .rolling(),one can perform moving averages or cumulative calculations.\n",
        "\n",
        "      8. Date Offsets and Ranges -> pd.date_range() and pd.timedelta_range() simplify generating custom time ranges for analysis.\n",
        "\n",
        "      9. Date Arithmetic & Shifting -> Automatically shifts data forward or backward in time."
      ],
      "metadata": {
        "id": "Fr_ZlKHSxhIf"
      }
    },
    {
      "cell_type": "markdown",
      "source": [
        "20. What is the role of a pivot table in Pandas?\n",
        "\n",
        "    - In Pandas, pivot tables are an essential tool for organizing, summarizing, and analyzing data efficiently. They help transform raw data into meaningful insights by restructuring it based on specific criteria.\n",
        "\n",
        "    - Key Roles of Pivot Tables in Pandas:\n",
        "\n",
        "       1. Summarization of Data -> It helps group and summarize data across multiple dimensions, aggregate values based on categories.\n",
        "\n",
        "       2. Grouping and Aggregation -> Perform operations like sum, mean, count, etc., on specific columns. You can apply aggregation functions like sum(), mean(), count(), etc., to grouped data or different columns.\n",
        "\n",
        "       3. Reorganization -> Pivot tables rearrange data for better comparison and analysis.\n",
        "\n",
        "       4. Handling Missing Data -> Automatically fills gaps using predefined strategies (fill_value parameter), handles missing data gracefully.\n",
        "\n",
        "       5. Multi-Dimensional Analysis -> Group data by rows, columns, and even hierarchical indices (multi-level pivoting). Example: Analyze sales by product (rows) and region (columns).\n",
        "\n",
        "       6. Filtering & Custom Calculations -> Users can apply complex functions to refine results.\n",
        "\n",
        "       7.  Reshaping Data -> Convert long-form data (e.g., repeated rows) into wide-form (compact, readable tables)."
      ],
      "metadata": {
        "id": "7M7S47VKo5s9"
      }
    },
    {
      "cell_type": "markdown",
      "source": [
        "21. Why is NumPy’s array slicing faster than Python’s list slicing?\n",
        "\n",
        "    - NumPy's array slicing is significantly faster than Python’s list slicing because of the way NumPy handles data in memory and performs operations.\n",
        "    \n",
        "    - Here’s why:\n",
        "\n",
        "       1. . Contiguous Memory Allocation -> NumPy arrays store data in a contiguous memory block, unlike Python lists  hich store references to objects scattered across memory.This allows NumPy to access and manipulate data much faster.\n",
        "\n",
        "       2. Fixed Data Types -> NumPy arrays store elements of the same data type, enabling low-level optimizations and SIMD (Single Instruction Multiple Data) operations. Python lists can store mixed types, which limits such optimizations.\n",
        "\n",
        "       3. Avoiding Overhead of Python Objects -> Python lists hold references to objects rather than raw data. Every time you slice a list, Python has to follow multiple memory pointers, slowing down operations. NumPy arrays contain homogeneous numerical data types stored directly in memory, making slicing extremely efficient.\n",
        "\n",
        "       4. No Copying (View vs. Copy) ->When slicing a NumPy array, the result is often just a view of the original data rather than a separate copy.Python lists, on the other hand, create a new list during slicing, increasing memory usage and execution time.\n",
        "\n",
        "       5. Vectorized Operations -> NumPy leverages optimized C-based operations, allowing slicing and other manipulations to happen directly at the hardware level rather than through Python's interpreter.\n",
        "      \n",
        "       6. Efficient Data Type Handling ->NumPy operates on fixed-size data types (int32, float64, etc.), making memory and computational efficiency much better than Python lists which store mixed-type objects."
      ],
      "metadata": {
        "id": "cB_R1xU7rU4p"
      }
    },
    {
      "cell_type": "markdown",
      "source": [
        "22. What are some common use cases for Seaborn?\n",
        "\n",
        "    - Seaborn is great for statistical data visualization and is built on top of Matplotlib. It makes it easier to create attractive and informative plots with less code.\n",
        "    \n",
        "    - Here are some common use cases:\n",
        "\n",
        "       1. Exploratory Data Analysis (EDA) -> Helps visualize distributions, trends, and relationships in datasets.\n",
        "\n",
        "       2.  Distribution Plots -> Use sns.histplot(), sns.kdeplot(), or sns.boxplot() to understand how data is distributed.\n",
        "\n",
        "       3. Heatmaps for Correlation Analysis -> Used to identify relationships between numerical features.\n",
        "\n",
        "       4.  Categorical Data Visualization -> Functions like sns.barplot(), sns.countplot(), and sns.violinplot() make it easy to compare categories (e.g., gender, department, product types).\n",
        "\n",
        "       5. Time Series Visualization -> Works well with Pandas (DatetimeIndex) and with sns.lineplot() for plotting trends over time.\n",
        "\n",
        "       6.  Regression Analysis -> sns.lmplot() shows scatter plots with regression lines and confidence intervals.\n",
        "\n",
        "       7. Multi-variable Relationships -> Use sns.pairplot() and sns.jointplot() to visualize relationships across multiple features and multiple numerical features at once."
      ],
      "metadata": {
        "id": "uWjB4DpmtMvJ"
      }
    },
    {
      "cell_type": "markdown",
      "source": [
        "## Practical Part"
      ],
      "metadata": {
        "id": "Wk6zcmkIvHZH"
      }
    },
    {
      "cell_type": "code",
      "source": [
        "# 1. How do you create a 2D NumPy array and calculate the sum of each row?\n",
        "\n",
        "import numpy as np\n",
        "\n",
        "arr = np.array([[1, 2, 3], [4, 5, 6], [7, 8, 9]])  # A 3x3 matrix\n",
        "print(arr)"
      ],
      "metadata": {
        "colab": {
          "base_uri": "https://localhost:8080/"
        },
        "id": "3eSkpovgvMJs",
        "outputId": "f7391d9e-0422-4db1-8165-b642f100a4b7"
      },
      "execution_count": 1,
      "outputs": [
        {
          "output_type": "stream",
          "name": "stdout",
          "text": [
            "[[1 2 3]\n",
            " [4 5 6]\n",
            " [7 8 9]]\n"
          ]
        }
      ]
    },
    {
      "cell_type": "code",
      "source": [
        "# 2. Write a Pandas script to find the mean of a specific column in a DataFrame\n",
        "\n",
        "import pandas as pd\n",
        "\n",
        "# Sample DataFrame\n",
        "data = {'Name': ['Anisha', 'Manish', 'Aakanksha', 'Saloni'],\n",
        "        'Age': [25, 30, 35, 40],\n",
        "        'Salary': [50000, 60000, 70000, 80000]}\n",
        "\n",
        "df = pd.DataFrame(data)\n",
        "\n",
        "# Calculate the mean of the 'Salary' column\n",
        "mean_salary = df['Salary'].mean()\n",
        "\n",
        "print(f\"Mean Salary: {mean_salary}\")\n"
      ],
      "metadata": {
        "colab": {
          "base_uri": "https://localhost:8080/"
        },
        "id": "gOcUxxxovqrN",
        "outputId": "22d009d8-7449-490e-d8f9-b1548ef4986e"
      },
      "execution_count": 2,
      "outputs": [
        {
          "output_type": "stream",
          "name": "stdout",
          "text": [
            "Mean Salary: 65000.0\n"
          ]
        }
      ]
    },
    {
      "cell_type": "code",
      "source": [
        "# 3. Create a scatter plot using Matplotlib\n",
        "\n",
        "import matplotlib.pyplot as plt\n",
        "\n",
        "# Sample data\n",
        "x = [10, 20, 30, 40, 56]\n",
        "y = [10, 20, 25, 30, 40]\n",
        "\n",
        "# Creating the scatter plot\n",
        "plt.scatter(x, y, color='blue', marker='o', label='Data points')\n",
        "\n",
        "# Adding labels and title\n",
        "plt.xlabel(\"X-axis\")\n",
        "plt.ylabel(\"Y-axis\")\n",
        "plt.title(\"Simple Scatter Plot\")\n",
        "plt.legend()\n",
        "\n",
        "# Display the plot\n",
        "plt.show()"
      ],
      "metadata": {
        "colab": {
          "base_uri": "https://localhost:8080/",
          "height": 472
        },
        "id": "1pnGb_quwNpV",
        "outputId": "36a6823e-8dde-4ed3-caf5-a90a6fa9419f"
      },
      "execution_count": 4,
      "outputs": [
        {
          "output_type": "display_data",
          "data": {
            "text/plain": [
              "<Figure size 640x480 with 1 Axes>"
            ],
            "image/png": "[encoded data removed]"
          },
          "metadata": {}
        }
      ]
    },
    {
      "cell_type": "code",
      "source": [
        "# 4. How do you calculate the correlation matrix using Seaborn and visualize it with a heatmap?\n",
        "\n",
        "import pandas as pd\n",
        "import seaborn as sns\n",
        "import matplotlib.pyplot as plt\n",
        "\n",
        "# Sample DataFrame\n",
        "data = {'Math': [90, 85, 70, 95, 88],\n",
        "    'Science': [92, 80, 65, 98, 85],\n",
        "    'English': [88, 75, 78, 85, 90]}\n",
        "df = pd.DataFrame(data)\n",
        "\n",
        "# Compute correlation matrix\n",
        "corr_matrix = df.corr()\n",
        "\n",
        "# Create heatmap\n",
        "plt.figure(figsize=(6, 4))\n",
        "sns.heatmap(corr_matrix, annot=True, cmap=\"coolwarm\", fmt=\".2f\")\n",
        "\n",
        "# Show the plot\n",
        "plt.title(\"Correlation Matrix Heatmap\")\n",
        "plt.show()"
      ],
      "metadata": {
        "colab": {
          "base_uri": "https://localhost:8080/",
          "height": 391
        },
        "id": "jyPExeEDwyfc",
        "outputId": "bd4f921e-a2a9-471b-fd56-d485d2cf7ca8"
      },
      "execution_count": 5,
      "outputs": [
        {
          "output_type": "display_data",
          "data": {
            "text/plain": [
              "<Figure size 600x400 with 2 Axes>"
            ],
            "image/png": "[encoded data removed]"
          },
          "metadata": {}
        }
      ]
    },
    {
      "cell_type": "code",
      "source": [
        "# 5. Generate a bar plot using Plotly.\n",
        "\n",
        "import plotly.express as px\n",
        "import pandas as pd\n",
        "\n",
        "# Sample data\n",
        "data = {\n",
        "    'Fruits': ['Apples', 'Bananas', 'Cherries', 'Dates'],\n",
        "    'Quantity': [10, 15, 7, 12]\n",
        "}\n",
        "\n",
        "df = pd.DataFrame(data)\n",
        "\n",
        "# Create bar plot\n",
        "fig = px.bar(df, x='Fruits', y='Quantity', title='Fruit Quantity Bar Plot')\n",
        "\n",
        "# Show plot\n",
        "fig.show()"
      ],
      "metadata": {
        "colab": {
          "base_uri": "https://localhost:8080/",
          "height": 542
        },
        "id": "PrbKpCbAxgHG",
        "outputId": "54b7cd43-dc3e-49d7-e687-ead09993083e"
      },
      "execution_count": 6,
      "outputs": [
        {
          "output_type": "display_data",
          "data": {
            "text/html": [
              "<html>\n",
              "<head><meta charset=\"utf-8\" /></head>\n",
              "<body>\n",
              "    <div>            <script src=\"https://cdnjs.cloudflare.com/ajax/libs/mathjax/2.7.5/MathJax.js?config=TeX-AMS-MML_SVG\"></script><script type=\"text/javascript\">if (window.MathJax && window.MathJax.Hub && window.MathJax.Hub.Config) {window.MathJax.Hub.Config({SVG: {font: \"STIX-Web\"}});}</script>                <script type=\"text/javascript\">window.PlotlyConfig = {MathJaxConfig: 'local'};</script>\n",
              "        <script charset=\"utf-8\" src=\"https://cdn.plot.ly/plotly-2.35.2.min.js\"></script>                <div id=\"93e76d55-d0a2-4596-93bd-b2063cad69fd\" class=\"plotly-graph-div\" style=\"height:525px; width:100%;\"></div>            <script type=\"text/javascript\">                                    window.PLOTLYENV=window.PLOTLYENV || {};                                    if (document.getElementById(\"93e76d55-d0a2-4596-93bd-b2063cad69fd\")) {                    Plotly.newPlot(                        \"93e76d55-d0a2-4596-93bd-b2063cad69fd\",                        [{\"alignmentgroup\":\"True\",\"hovertemplate\":\"Fruits=%{x}\\u003cbr\\u003eQuantity=%{y}\\u003cextra\\u003e\\u003c\\u002fextra\\u003e\",\"legendgroup\":\"\",\"marker\":{\"color\":\"#636efa\",\"pattern\":{\"shape\":\"\"}},\"name\":\"\",\"offsetgroup\":\"\",\"orientation\":\"v\",\"showlegend\":false,\"textposition\":\"auto\",\"x\":[\"Apples\",\"Bananas\",\"Cherries\",\"Dates\"],\"xaxis\":\"x\",\"y\":[10,15,7,12],\"yaxis\":\"y\",\"type\":\"bar\"}],                        {\"template\":{\"data\":{\"histogram2dcontour\":[{\"type\":\"histogram2dcontour\",\"colorbar\":{\"outlinewidth\":0,\"ticks\":\"\"},\"colorscale\":[[0.0,\"#0d0887\"],[0.1111111111111111,\"#46039f\"],[0.2222222222222222,\"#7201a8\"],[0.3333333333333333,\"#9c179e\"],[0.4444444444444444,\"#bd3786\"],[0.5555555555555556,\"#d8576b\"],[0.6666666666666666,\"#ed7953\"],[0.7777777777777778,\"#fb9f3a\"],[0.8888888888888888,\"#fdca26\"],[1.0,\"#f0f921\"]]}],\"choropleth\":[{\"type\":\"choropleth\",\"colorbar\":{\"outlinewidth\":0,\"ticks\":\"\"}}],\"histogram2d\":[{\"type\":\"histogram2d\",\"colorbar\":{\"outlinewidth\":0,\"ticks\":\"\"},\"colorscale\":[[0.0,\"#0d0887\"],[0.1111111111111111,\"#46039f\"],[0.2222222222222222,\"#7201a8\"],[0.3333333333333333,\"#9c179e\"],[0.4444444444444444,\"#bd3786\"],[0.5555555555555556,\"#d8576b\"],[0.6666666666666666,\"#ed7953\"],[0.7777777777777778,\"#fb9f3a\"],[0.8888888888888888,\"#fdca26\"],[1.0,\"#f0f921\"]]}],\"heatmap\":[{\"type\":\"heatmap\",\"colorbar\":{\"outlinewidth\":0,\"ticks\":\"\"},\"colorscale\":[[0.0,\"#0d0887\"],[0.1111111111111111,\"#46039f\"],[0.2222222222222222,\"#7201a8\"],[0.3333333333333333,\"#9c179e\"],[0.4444444444444444,\"#bd3786\"],[0.5555555555555556,\"#d8576b\"],[0.6666666666666666,\"#ed7953\"],[0.7777777777777778,\"#fb9f3a\"],[0.8888888888888888,\"#fdca26\"],[1.0,\"#f0f921\"]]}],\"heatmapgl\":[{\"type\":\"heatmapgl\",\"colorbar\":{\"outlinewidth\":0,\"ticks\":\"\"},\"colorscale\":[[0.0,\"#0d0887\"],[0.1111111111111111,\"#46039f\"],[0.2222222222222222,\"#7201a8\"],[0.3333333333333333,\"#9c179e\"],[0.4444444444444444,\"#bd3786\"],[0.5555555555555556,\"#d8576b\"],[0.6666666666666666,\"#ed7953\"],[0.7777777777777778,\"#fb9f3a\"],[0.8888888888888888,\"#fdca26\"],[1.0,\"#f0f921\"]]}],\"contourcarpet\":[{\"type\":\"contourcarpet\",\"colorbar\":{\"outlinewidth\":0,\"ticks\":\"\"}}],\"contour\":[{\"type\":\"contour\",\"colorbar\":{\"outlinewidth\":0,\"ticks\":\"\"},\"colorscale\":[[0.0,\"#0d0887\"],[0.1111111111111111,\"#46039f\"],[0.2222222222222222,\"#7201a8\"],[0.3333333333333333,\"#9c179e\"],[0.4444444444444444,\"#bd3786\"],[0.5555555555555556,\"#d8576b\"],[0.6666666666666666,\"#ed7953\"],[0.7777777777777778,\"#fb9f3a\"],[0.8888888888888888,\"#fdca26\"],[1.0,\"#f0f921\"]]}],\"surface\":[{\"type\":\"surface\",\"colorbar\":{\"outlinewidth\":0,\"ticks\":\"\"},\"colorscale\":[[0.0,\"#0d0887\"],[0.1111111111111111,\"#46039f\"],[0.2222222222222222,\"#7201a8\"],[0.3333333333333333,\"#9c179e\"],[0.4444444444444444,\"#bd3786\"],[0.5555555555555556,\"#d8576b\"],[0.6666666666666666,\"#ed7953\"],[0.7777777777777778,\"#fb9f3a\"],[0.8888888888888888,\"#fdca26\"],[1.0,\"#f0f921\"]]}],\"mesh3d\":[{\"type\":\"mesh3d\",\"colorbar\":{\"outlinewidth\":0,\"ticks\":\"\"}}],\"scatter\":[{\"fillpattern\":{\"fillmode\":\"overlay\",\"size\":10,\"solidity\":0.2},\"type\":\"scatter\"}],\"parcoords\":[{\"type\":\"parcoords\",\"line\":{\"colorbar\":{\"outlinewidth\":0,\"ticks\":\"\"}}}],\"scatterpolargl\":[{\"type\":\"scatterpolargl\",\"marker\":{\"colorbar\":{\"outlinewidth\":0,\"ticks\":\"\"}}}],\"bar\":[{\"error_x\":{\"color\":\"#2a3f5f\"},\"error_y\":{\"color\":\"#2a3f5f\"},\"marker\":{\"line\":{\"color\":\"#E5ECF6\",\"width\":0.5},\"pattern\":{\"fillmode\":\"overlay\",\"size\":10,\"solidity\":0.2}},\"type\":\"bar\"}],\"scattergeo\":[{\"type\":\"scattergeo\",\"marker\":{\"colorbar\":{\"outlinewidth\":0,\"ticks\":\"\"}}}],\"scatterpolar\":[{\"type\":\"scatterpolar\",\"marker\":{\"colorbar\":{\"outlinewidth\":0,\"ticks\":\"\"}}}],\"histogram\":[{\"marker\":{\"pattern\":{\"fillmode\":\"overlay\",\"size\":10,\"solidity\":0.2}},\"type\":\"histogram\"}],\"scattergl\":[{\"type\":\"scattergl\",\"marker\":{\"colorbar\":{\"outlinewidth\":0,\"ticks\":\"\"}}}],\"scatter3d\":[{\"type\":\"scatter3d\",\"line\":{\"colorbar\":{\"outlinewidth\":0,\"ticks\":\"\"}},\"marker\":{\"colorbar\":{\"outlinewidth\":0,\"ticks\":\"\"}}}],\"scattermapbox\":[{\"type\":\"scattermapbox\",\"marker\":{\"colorbar\":{\"outlinewidth\":0,\"ticks\":\"\"}}}],\"scatterternary\":[{\"type\":\"scatterternary\",\"marker\":{\"colorbar\":{\"outlinewidth\":0,\"ticks\":\"\"}}}],\"scattercarpet\":[{\"type\":\"scattercarpet\",\"marker\":{\"colorbar\":{\"outlinewidth\":0,\"ticks\":\"\"}}}],\"carpet\":[{\"aaxis\":{\"endlinecolor\":\"#2a3f5f\",\"gridcolor\":\"white\",\"linecolor\":\"white\",\"minorgridcolor\":\"white\",\"startlinecolor\":\"#2a3f5f\"},\"baxis\":{\"endlinecolor\":\"#2a3f5f\",\"gridcolor\":\"white\",\"linecolor\":\"white\",\"minorgridcolor\":\"white\",\"startlinecolor\":\"#2a3f5f\"},\"type\":\"carpet\"}],\"table\":[{\"cells\":{\"fill\":{\"color\":\"#EBF0F8\"},\"line\":{\"color\":\"white\"}},\"header\":{\"fill\":{\"color\":\"#C8D4E3\"},\"line\":{\"color\":\"white\"}},\"type\":\"table\"}],\"barpolar\":[{\"marker\":{\"line\":{\"color\":\"#E5ECF6\",\"width\":0.5},\"pattern\":{\"fillmode\":\"overlay\",\"size\":10,\"solidity\":0.2}},\"type\":\"barpolar\"}],\"pie\":[{\"automargin\":true,\"type\":\"pie\"}]},\"layout\":{\"autotypenumbers\":\"strict\",\"colorway\":[\"#636efa\",\"#EF553B\",\"#00cc96\",\"#ab63fa\",\"#FFA15A\",\"#19d3f3\",\"#FF6692\",\"#B6E880\",\"#FF97FF\",\"#FECB52\"],\"font\":{\"color\":\"#2a3f5f\"},\"hovermode\":\"closest\",\"hoverlabel\":{\"align\":\"left\"},\"paper_bgcolor\":\"white\",\"plot_bgcolor\":\"#E5ECF6\",\"polar\":{\"bgcolor\":\"#E5ECF6\",\"angularaxis\":{\"gridcolor\":\"white\",\"linecolor\":\"white\",\"ticks\":\"\"},\"radialaxis\":{\"gridcolor\":\"white\",\"linecolor\":\"white\",\"ticks\":\"\"}},\"ternary\":{\"bgcolor\":\"#E5ECF6\",\"aaxis\":{\"gridcolor\":\"white\",\"linecolor\":\"white\",\"ticks\":\"\"},\"baxis\":{\"gridcolor\":\"white\",\"linecolor\":\"white\",\"ticks\":\"\"},\"caxis\":{\"gridcolor\":\"white\",\"linecolor\":\"white\",\"ticks\":\"\"}},\"coloraxis\":{\"colorbar\":{\"outlinewidth\":0,\"ticks\":\"\"}},\"colorscale\":{\"sequential\":[[0.0,\"#0d0887\"],[0.1111111111111111,\"#46039f\"],[0.2222222222222222,\"#7201a8\"],[0.3333333333333333,\"#9c179e\"],[0.4444444444444444,\"#bd3786\"],[0.5555555555555556,\"#d8576b\"],[0.6666666666666666,\"#ed7953\"],[0.7777777777777778,\"#fb9f3a\"],[0.8888888888888888,\"#fdca26\"],[1.0,\"#f0f921\"]],\"sequentialminus\":[[0.0,\"#0d0887\"],[0.1111111111111111,\"#46039f\"],[0.2222222222222222,\"#7201a8\"],[0.3333333333333333,\"#9c179e\"],[0.4444444444444444,\"#bd3786\"],[0.5555555555555556,\"#d8576b\"],[0.6666666666666666,\"#ed7953\"],[0.7777777777777778,\"#fb9f3a\"],[0.8888888888888888,\"#fdca26\"],[1.0,\"#f0f921\"]],\"diverging\":[[0,\"#8e0152\"],[0.1,\"#c51b7d\"],[0.2,\"#de77ae\"],[0.3,\"#f1b6da\"],[0.4,\"#fde0ef\"],[0.5,\"#f7f7f7\"],[0.6,\"#e6f5d0\"],[0.7,\"#b8e186\"],[0.8,\"#7fbc41\"],[0.9,\"#4d9221\"],[1,\"#276419\"]]},\"xaxis\":{\"gridcolor\":\"white\",\"linecolor\":\"white\",\"ticks\":\"\",\"title\":{\"standoff\":15},\"zerolinecolor\":\"white\",\"automargin\":true,\"zerolinewidth\":2},\"yaxis\":{\"gridcolor\":\"white\",\"linecolor\":\"white\",\"ticks\":\"\",\"title\":{\"standoff\":15},\"zerolinecolor\":\"white\",\"automargin\":true,\"zerolinewidth\":2},\"scene\":{\"xaxis\":{\"backgroundcolor\":\"#E5ECF6\",\"gridcolor\":\"white\",\"linecolor\":\"white\",\"showbackground\":true,\"ticks\":\"\",\"zerolinecolor\":\"white\",\"gridwidth\":2},\"yaxis\":{\"backgroundcolor\":\"#E5ECF6\",\"gridcolor\":\"white\",\"linecolor\":\"white\",\"showbackground\":true,\"ticks\":\"\",\"zerolinecolor\":\"white\",\"gridwidth\":2},\"zaxis\":{\"backgroundcolor\":\"#E5ECF6\",\"gridcolor\":\"white\",\"linecolor\":\"white\",\"showbackground\":true,\"ticks\":\"\",\"zerolinecolor\":\"white\",\"gridwidth\":2}},\"shapedefaults\":{\"line\":{\"color\":\"#2a3f5f\"}},\"annotationdefaults\":{\"arrowcolor\":\"#2a3f5f\",\"arrowhead\":0,\"arrowwidth\":1},\"geo\":{\"bgcolor\":\"white\",\"landcolor\":\"#E5ECF6\",\"subunitcolor\":\"white\",\"showland\":true,\"showlakes\":true,\"lakecolor\":\"white\"},\"title\":{\"x\":0.05},\"mapbox\":{\"style\":\"light\"}}},\"xaxis\":{\"anchor\":\"y\",\"domain\":[0.0,1.0],\"title\":{\"text\":\"Fruits\"}},\"yaxis\":{\"anchor\":\"x\",\"domain\":[0.0,1.0],\"title\":{\"text\":\"Quantity\"}},\"legend\":{\"tracegroupgap\":0},\"title\":{\"text\":\"Fruit Quantity Bar Plot\"},\"barmode\":\"relative\"},                        {\"responsive\": true}                    ).then(function(){\n",
              "                            \n",
              "var gd = document.getElementById('93e76d55-d0a2-4596-93bd-b2063cad69fd');\n",
              "var x = new MutationObserver(function (mutations, observer) {{\n",
              "        var display = window.getComputedStyle(gd).display;\n",
              "        if (!display || display === 'none') {{\n",
              "            console.log([gd, 'removed!']);\n",
              "            Plotly.purge(gd);\n",
              "            observer.disconnect();\n",
              "        }}\n",
              "}});\n",
              "\n",
              "// Listen for the removal of the full notebook cells\n",
              "var notebookContainer = gd.closest('#notebook-container');\n",
              "if (notebookContainer) {{\n",
              "    x.observe(notebookContainer, {childList: true});\n",
              "}}\n",
              "\n",
              "// Listen for the clearing of the current output cell\n",
              "var outputEl = gd.closest('.output');\n",
              "if (outputEl) {{\n",
              "    x.observe(outputEl, {childList: true});\n",
              "}}\n",
              "\n",
              "                        })                };                            </script>        </div>\n",
              "</body>\n",
              "</html>"
            ]
          },
          "metadata": {}
        }
      ]
    },
    {
      "cell_type": "code",
      "source": [
        "# 6. Create a DataFrame and add a new column based on an existing column.\n",
        "\n",
        "import pandas as pd\n",
        "\n",
        "# Creating a sample DataFrame\n",
        "data = {'A': [10, 20, 30, 40, 50]}\n",
        "df = pd.DataFrame(data)\n",
        "\n",
        "# Adding a new column based on 'A'\n",
        "df['B'] = df['A'] * 2  # Each value in column B is double that of column A\n",
        "\n",
        "print(df)"
      ],
      "metadata": {
        "colab": {
          "base_uri": "https://localhost:8080/"
        },
        "id": "4n6xrygWx6pK",
        "outputId": "e4f3cac5-5773-48da-b8ce-d1f0f89acbe4"
      },
      "execution_count": 7,
      "outputs": [
        {
          "output_type": "stream",
          "name": "stdout",
          "text": [
            "    A    B\n",
            "0  10   20\n",
            "1  20   40\n",
            "2  30   60\n",
            "3  40   80\n",
            "4  50  100\n"
          ]
        }
      ]
    },
    {
      "cell_type": "code",
      "source": [
        "# 7.Write a program to perform element-wise multiplication of two NumPy arrays\n",
        "\n",
        "import numpy as np\n",
        "\n",
        "# Define two NumPy arrays\n",
        "arr1 = np.array([1, 2, 3, 4])\n",
        "arr2 = np.array([5, 6, 7, 8])\n",
        "\n",
        "# Perform element-wise multiplication\n",
        "result = arr1 * arr2\n",
        "\n",
        "# Display the result\n",
        "print(\"Element-wise multiplication result:\", result)\n"
      ],
      "metadata": {
        "colab": {
          "base_uri": "https://localhost:8080/"
        },
        "id": "Xz0S7vfJybey",
        "outputId": "e9a7d452-9304-4dd0-ea84-f41715a59330"
      },
      "execution_count": 8,
      "outputs": [
        {
          "output_type": "stream",
          "name": "stdout",
          "text": [
            "Element-wise multiplication result: [ 5 12 21 32]\n"
          ]
        }
      ]
    },
    {
      "cell_type": "code",
      "source": [
        "# 8. Create a line plot with multiple lines using Matplotlib.\n",
        "\n",
        "import matplotlib.pyplot as plt\n",
        "\n",
        "# Sample data\n",
        "x = [1, 2, 3, 4, 5]\n",
        "y1 = [10, 20, 30, 40, 50]  # First line\n",
        "y2 = [5, 15, 25, 35, 45]   # Second line\n",
        "y3 = [2, 12, 22, 32, 42]   # Third line\n",
        "\n",
        "# Creating the plot\n",
        "plt.plot(x, y1, label=\"Line 1\", marker=\"o\", linestyle=\"-\", color=\"blue\")\n",
        "plt.plot(x, y2, label=\"Line 2\", marker=\"s\", linestyle=\"--\", color=\"red\")\n",
        "plt.plot(x, y3, label=\"Line 3\", marker=\"^\", linestyle=\":\", color=\"green\")\n",
        "\n",
        "# Adding labels, title, and legend\n",
        "plt.xlabel(\"X-axis\")\n",
        "plt.ylabel(\"Y-axis\")\n",
        "plt.title(\"Line Plot with Multiple Lines\")\n",
        "plt.legend()\n",
        "plt.grid(True)  # Adds grid for better readability\n",
        "\n",
        "# Display the plot\n",
        "plt.show()"
      ],
      "metadata": {
        "colab": {
          "base_uri": "https://localhost:8080/",
          "height": 472
        },
        "id": "AkF84qDGyyKK",
        "outputId": "e45e0a25-1f1a-4831-e88f-f0886a6ee970"
      },
      "execution_count": 14,
      "outputs": [
        {
          "output_type": "display_data",
          "data": {
            "text/plain": [
              "<Figure size 640x480 with 1 Axes>"
            ],
            "image/png": "[encoded data removed]"
          },
          "metadata": {}
        }
      ]
    },
    {
      "cell_type": "code",
      "source": [
        "# 9. Generate a Pandas DataFrame and filter rows where a column value is greater than a threshold.\n",
        "\n",
        "import pandas as pd\n",
        "\n",
        "# Create a sample DataFrame\n",
        "data = {\n",
        "    'Name': ['Anisha', 'Akanksha', 'Pratham', 'Manish', 'Saloni'],\n",
        "    'Age': [23, 34, 29, 40, 25],\n",
        "    'Salary': [50000, 60000, 70000, 80000, 55000]\n",
        "}\n",
        "\n",
        "df = pd.DataFrame(data)\n",
        "\n",
        "# Define threshold value\n",
        "salary_threshold = 60000\n",
        "\n",
        "# Filter rows where the 'Salary' column (column A) is greater than the threshold\n",
        "filtered_df = df[df['Salary'] > salary_threshold]\n",
        "\n",
        "print(filtered_df)"
      ],
      "metadata": {
        "colab": {
          "base_uri": "https://localhost:8080/"
        },
        "id": "zY0h0AlWzFvX",
        "outputId": "7736cf5c-07ba-47f0-f431-1c06ec9a96ba"
      },
      "execution_count": 16,
      "outputs": [
        {
          "output_type": "stream",
          "name": "stdout",
          "text": [
            "      Name  Age  Salary\n",
            "2  Pratham   29   70000\n",
            "3   Manish   40   80000\n"
          ]
        }
      ]
    },
    {
      "cell_type": "code",
      "source": [
        "# 10. Create a histogram using Seaborn to visualize a distribution.\n",
        "\n",
        "import seaborn as sns\n",
        "import matplotlib.pyplot as plt\n",
        "\n",
        "# Sample data\n",
        "data = [23, 45, 56, 67, 89, 45, 23, 56, 67, 45, 23, 56, 78, 89, 90]\n",
        "\n",
        "# Create a histogram with Seaborn\n",
        "sns.histplot(data, kde=True, color='blue', bins=10)\n",
        "\n",
        "# Add labels and title\n",
        "plt.xlabel('Value')\n",
        "plt.ylabel('Frequency')\n",
        "plt.title('Distribution of Values')\n",
        "\n",
        "# Show the plot\n",
        "plt.show()\n"
      ],
      "metadata": {
        "colab": {
          "base_uri": "https://localhost:8080/",
          "height": 472
        },
        "id": "FnNMy6pM0pw5",
        "outputId": "869b014d-16b1-460d-f952-0f04e06b4850"
      },
      "execution_count": 19,
      "outputs": [
        {
          "output_type": "display_data",
          "data": {
            "text/plain": [
              "<Figure size 640x480 with 1 Axes>"
            ],
            "image/png": "[encoded data removed]"
          },
          "metadata": {}
        }
      ]
    },
    {
      "cell_type": "code",
      "source": [
        "# 11. Perform matrix multiplication using NumPy.\n",
        "\n",
        "import numpy as np\n",
        "\n",
        "# Define two matrices\n",
        "A = np.array([[1, 2], [3, 4]])\n",
        "B = np.array([[5, 6], [7, 8]])\n",
        "\n",
        "# Perform matrix multiplication\n",
        "result = np.dot(A, B)  # Equivalent to A @ B\n",
        "print(\"Matrix Multiplication Result:\\n\", result)\n"
      ],
      "metadata": {
        "colab": {
          "base_uri": "https://localhost:8080/"
        },
        "id": "JzTLGpA_0zfB",
        "outputId": "29205125-b2f6-43ec-fa23-d044be62f322"
      },
      "execution_count": 21,
      "outputs": [
        {
          "output_type": "stream",
          "name": "stdout",
          "text": [
            "Matrix Multiplication Result:\n",
            " [[19 22]\n",
            " [43 50]]\n"
          ]
        }
      ]
    },
    {
      "cell_type": "code",
      "source": [
        "# 13. Create a 3D scatter plot using Plotly\n",
        "\n",
        "import plotly.express as px\n",
        "import pandas as pd\n",
        "\n",
        "# Sample data\n",
        "data = {\n",
        "    'X': [1, 2, 3, 4, 5],\n",
        "    'Y': [5, 4, 3, 2, 1],\n",
        "    'Z': [10, 20, 30, 40, 50]\n",
        "}\n",
        "\n",
        "df = pd.DataFrame(data)\n",
        "\n",
        "# Create 3D scatter plot\n",
        "fig = px.scatter_3d(df, x='X', y='Y', z='Z', title='3D Scatter Plot')\n",
        "\n",
        "# Show plot\n",
        "fig.show()\n"
      ],
      "metadata": {
        "colab": {
          "base_uri": "https://localhost:8080/",
          "height": 542
        },
        "id": "QL5Anio72n-V",
        "outputId": "a38a0e69-73ea-4501-88f6-363a0c7ef558"
      },
      "execution_count": 32,
      "outputs": [
        {
          "output_type": "display_data",
          "data": {
            "text/html": [
              "<html>\n",
              "<head><meta charset=\"utf-8\" /></head>\n",
              "<body>\n",
              "    <div>            <script src=\"https://cdnjs.cloudflare.com/ajax/libs/mathjax/2.7.5/MathJax.js?config=TeX-AMS-MML_SVG\"></script><script type=\"text/javascript\">if (window.MathJax && window.MathJax.Hub && window.MathJax.Hub.Config) {window.MathJax.Hub.Config({SVG: {font: \"STIX-Web\"}});}</script>                <script type=\"text/javascript\">window.PlotlyConfig = {MathJaxConfig: 'local'};</script>\n",
              "        <script charset=\"utf-8\" src=\"https://cdn.plot.ly/plotly-2.35.2.min.js\"></script>                <div id=\"e0853112-4a2a-45fe-b6f1-94f88b01e54a\" class=\"plotly-graph-div\" style=\"height:525px; width:100%;\"></div>            <script type=\"text/javascript\">                                    window.PLOTLYENV=window.PLOTLYENV || {};                                    if (document.getElementById(\"e0853112-4a2a-45fe-b6f1-94f88b01e54a\")) {                    Plotly.newPlot(                        \"e0853112-4a2a-45fe-b6f1-94f88b01e54a\",                        [{\"hovertemplate\":\"X=%{x}\\u003cbr\\u003eY=%{y}\\u003cbr\\u003eZ=%{z}\\u003cextra\\u003e\\u003c\\u002fextra\\u003e\",\"legendgroup\":\"\",\"marker\":{\"color\":\"#636efa\",\"symbol\":\"circle\"},\"mode\":\"markers\",\"name\":\"\",\"scene\":\"scene\",\"showlegend\":false,\"x\":[1,2,3,4,5],\"y\":[5,4,3,2,1],\"z\":[10,20,30,40,50],\"type\":\"scatter3d\"}],                        {\"template\":{\"data\":{\"histogram2dcontour\":[{\"type\":\"histogram2dcontour\",\"colorbar\":{\"outlinewidth\":0,\"ticks\":\"\"},\"colorscale\":[[0.0,\"#0d0887\"],[0.1111111111111111,\"#46039f\"],[0.2222222222222222,\"#7201a8\"],[0.3333333333333333,\"#9c179e\"],[0.4444444444444444,\"#bd3786\"],[0.5555555555555556,\"#d8576b\"],[0.6666666666666666,\"#ed7953\"],[0.7777777777777778,\"#fb9f3a\"],[0.8888888888888888,\"#fdca26\"],[1.0,\"#f0f921\"]]}],\"choropleth\":[{\"type\":\"choropleth\",\"colorbar\":{\"outlinewidth\":0,\"ticks\":\"\"}}],\"histogram2d\":[{\"type\":\"histogram2d\",\"colorbar\":{\"outlinewidth\":0,\"ticks\":\"\"},\"colorscale\":[[0.0,\"#0d0887\"],[0.1111111111111111,\"#46039f\"],[0.2222222222222222,\"#7201a8\"],[0.3333333333333333,\"#9c179e\"],[0.4444444444444444,\"#bd3786\"],[0.5555555555555556,\"#d8576b\"],[0.6666666666666666,\"#ed7953\"],[0.7777777777777778,\"#fb9f3a\"],[0.8888888888888888,\"#fdca26\"],[1.0,\"#f0f921\"]]}],\"heatmap\":[{\"type\":\"heatmap\",\"colorbar\":{\"outlinewidth\":0,\"ticks\":\"\"},\"colorscale\":[[0.0,\"#0d0887\"],[0.1111111111111111,\"#46039f\"],[0.2222222222222222,\"#7201a8\"],[0.3333333333333333,\"#9c179e\"],[0.4444444444444444,\"#bd3786\"],[0.5555555555555556,\"#d8576b\"],[0.6666666666666666,\"#ed7953\"],[0.7777777777777778,\"#fb9f3a\"],[0.8888888888888888,\"#fdca26\"],[1.0,\"#f0f921\"]]}],\"heatmapgl\":[{\"type\":\"heatmapgl\",\"colorbar\":{\"outlinewidth\":0,\"ticks\":\"\"},\"colorscale\":[[0.0,\"#0d0887\"],[0.1111111111111111,\"#46039f\"],[0.2222222222222222,\"#7201a8\"],[0.3333333333333333,\"#9c179e\"],[0.4444444444444444,\"#bd3786\"],[0.5555555555555556,\"#d8576b\"],[0.6666666666666666,\"#ed7953\"],[0.7777777777777778,\"#fb9f3a\"],[0.8888888888888888,\"#fdca26\"],[1.0,\"#f0f921\"]]}],\"contourcarpet\":[{\"type\":\"contourcarpet\",\"colorbar\":{\"outlinewidth\":0,\"ticks\":\"\"}}],\"contour\":[{\"type\":\"contour\",\"colorbar\":{\"outlinewidth\":0,\"ticks\":\"\"},\"colorscale\":[[0.0,\"#0d0887\"],[0.1111111111111111,\"#46039f\"],[0.2222222222222222,\"#7201a8\"],[0.3333333333333333,\"#9c179e\"],[0.4444444444444444,\"#bd3786\"],[0.5555555555555556,\"#d8576b\"],[0.6666666666666666,\"#ed7953\"],[0.7777777777777778,\"#fb9f3a\"],[0.8888888888888888,\"#fdca26\"],[1.0,\"#f0f921\"]]}],\"surface\":[{\"type\":\"surface\",\"colorbar\":{\"outlinewidth\":0,\"ticks\":\"\"},\"colorscale\":[[0.0,\"#0d0887\"],[0.1111111111111111,\"#46039f\"],[0.2222222222222222,\"#7201a8\"],[0.3333333333333333,\"#9c179e\"],[0.4444444444444444,\"#bd3786\"],[0.5555555555555556,\"#d8576b\"],[0.6666666666666666,\"#ed7953\"],[0.7777777777777778,\"#fb9f3a\"],[0.8888888888888888,\"#fdca26\"],[1.0,\"#f0f921\"]]}],\"mesh3d\":[{\"type\":\"mesh3d\",\"colorbar\":{\"outlinewidth\":0,\"ticks\":\"\"}}],\"scatter\":[{\"fillpattern\":{\"fillmode\":\"overlay\",\"size\":10,\"solidity\":0.2},\"type\":\"scatter\"}],\"parcoords\":[{\"type\":\"parcoords\",\"line\":{\"colorbar\":{\"outlinewidth\":0,\"ticks\":\"\"}}}],\"scatterpolargl\":[{\"type\":\"scatterpolargl\",\"marker\":{\"colorbar\":{\"outlinewidth\":0,\"ticks\":\"\"}}}],\"bar\":[{\"error_x\":{\"color\":\"#2a3f5f\"},\"error_y\":{\"color\":\"#2a3f5f\"},\"marker\":{\"line\":{\"color\":\"#E5ECF6\",\"width\":0.5},\"pattern\":{\"fillmode\":\"overlay\",\"size\":10,\"solidity\":0.2}},\"type\":\"bar\"}],\"scattergeo\":[{\"type\":\"scattergeo\",\"marker\":{\"colorbar\":{\"outlinewidth\":0,\"ticks\":\"\"}}}],\"scatterpolar\":[{\"type\":\"scatterpolar\",\"marker\":{\"colorbar\":{\"outlinewidth\":0,\"ticks\":\"\"}}}],\"histogram\":[{\"marker\":{\"pattern\":{\"fillmode\":\"overlay\",\"size\":10,\"solidity\":0.2}},\"type\":\"histogram\"}],\"scattergl\":[{\"type\":\"scattergl\",\"marker\":{\"colorbar\":{\"outlinewidth\":0,\"ticks\":\"\"}}}],\"scatter3d\":[{\"type\":\"scatter3d\",\"line\":{\"colorbar\":{\"outlinewidth\":0,\"ticks\":\"\"}},\"marker\":{\"colorbar\":{\"outlinewidth\":0,\"ticks\":\"\"}}}],\"scattermapbox\":[{\"type\":\"scattermapbox\",\"marker\":{\"colorbar\":{\"outlinewidth\":0,\"ticks\":\"\"}}}],\"scatterternary\":[{\"type\":\"scatterternary\",\"marker\":{\"colorbar\":{\"outlinewidth\":0,\"ticks\":\"\"}}}],\"scattercarpet\":[{\"type\":\"scattercarpet\",\"marker\":{\"colorbar\":{\"outlinewidth\":0,\"ticks\":\"\"}}}],\"carpet\":[{\"aaxis\":{\"endlinecolor\":\"#2a3f5f\",\"gridcolor\":\"white\",\"linecolor\":\"white\",\"minorgridcolor\":\"white\",\"startlinecolor\":\"#2a3f5f\"},\"baxis\":{\"endlinecolor\":\"#2a3f5f\",\"gridcolor\":\"white\",\"linecolor\":\"white\",\"minorgridcolor\":\"white\",\"startlinecolor\":\"#2a3f5f\"},\"type\":\"carpet\"}],\"table\":[{\"cells\":{\"fill\":{\"color\":\"#EBF0F8\"},\"line\":{\"color\":\"white\"}},\"header\":{\"fill\":{\"color\":\"#C8D4E3\"},\"line\":{\"color\":\"white\"}},\"type\":\"table\"}],\"barpolar\":[{\"marker\":{\"line\":{\"color\":\"#E5ECF6\",\"width\":0.5},\"pattern\":{\"fillmode\":\"overlay\",\"size\":10,\"solidity\":0.2}},\"type\":\"barpolar\"}],\"pie\":[{\"automargin\":true,\"type\":\"pie\"}]},\"layout\":{\"autotypenumbers\":\"strict\",\"colorway\":[\"#636efa\",\"#EF553B\",\"#00cc96\",\"#ab63fa\",\"#FFA15A\",\"#19d3f3\",\"#FF6692\",\"#B6E880\",\"#FF97FF\",\"#FECB52\"],\"font\":{\"color\":\"#2a3f5f\"},\"hovermode\":\"closest\",\"hoverlabel\":{\"align\":\"left\"},\"paper_bgcolor\":\"white\",\"plot_bgcolor\":\"#E5ECF6\",\"polar\":{\"bgcolor\":\"#E5ECF6\",\"angularaxis\":{\"gridcolor\":\"white\",\"linecolor\":\"white\",\"ticks\":\"\"},\"radialaxis\":{\"gridcolor\":\"white\",\"linecolor\":\"white\",\"ticks\":\"\"}},\"ternary\":{\"bgcolor\":\"#E5ECF6\",\"aaxis\":{\"gridcolor\":\"white\",\"linecolor\":\"white\",\"ticks\":\"\"},\"baxis\":{\"gridcolor\":\"white\",\"linecolor\":\"white\",\"ticks\":\"\"},\"caxis\":{\"gridcolor\":\"white\",\"linecolor\":\"white\",\"ticks\":\"\"}},\"coloraxis\":{\"colorbar\":{\"outlinewidth\":0,\"ticks\":\"\"}},\"colorscale\":{\"sequential\":[[0.0,\"#0d0887\"],[0.1111111111111111,\"#46039f\"],[0.2222222222222222,\"#7201a8\"],[0.3333333333333333,\"#9c179e\"],[0.4444444444444444,\"#bd3786\"],[0.5555555555555556,\"#d8576b\"],[0.6666666666666666,\"#ed7953\"],[0.7777777777777778,\"#fb9f3a\"],[0.8888888888888888,\"#fdca26\"],[1.0,\"#f0f921\"]],\"sequentialminus\":[[0.0,\"#0d0887\"],[0.1111111111111111,\"#46039f\"],[0.2222222222222222,\"#7201a8\"],[0.3333333333333333,\"#9c179e\"],[0.4444444444444444,\"#bd3786\"],[0.5555555555555556,\"#d8576b\"],[0.6666666666666666,\"#ed7953\"],[0.7777777777777778,\"#fb9f3a\"],[0.8888888888888888,\"#fdca26\"],[1.0,\"#f0f921\"]],\"diverging\":[[0,\"#8e0152\"],[0.1,\"#c51b7d\"],[0.2,\"#de77ae\"],[0.3,\"#f1b6da\"],[0.4,\"#fde0ef\"],[0.5,\"#f7f7f7\"],[0.6,\"#e6f5d0\"],[0.7,\"#b8e186\"],[0.8,\"#7fbc41\"],[0.9,\"#4d9221\"],[1,\"#276419\"]]},\"xaxis\":{\"gridcolor\":\"white\",\"linecolor\":\"white\",\"ticks\":\"\",\"title\":{\"standoff\":15},\"zerolinecolor\":\"white\",\"automargin\":true,\"zerolinewidth\":2},\"yaxis\":{\"gridcolor\":\"white\",\"linecolor\":\"white\",\"ticks\":\"\",\"title\":{\"standoff\":15},\"zerolinecolor\":\"white\",\"automargin\":true,\"zerolinewidth\":2},\"scene\":{\"xaxis\":{\"backgroundcolor\":\"#E5ECF6\",\"gridcolor\":\"white\",\"linecolor\":\"white\",\"showbackground\":true,\"ticks\":\"\",\"zerolinecolor\":\"white\",\"gridwidth\":2},\"yaxis\":{\"backgroundcolor\":\"#E5ECF6\",\"gridcolor\":\"white\",\"linecolor\":\"white\",\"showbackground\":true,\"ticks\":\"\",\"zerolinecolor\":\"white\",\"gridwidth\":2},\"zaxis\":{\"backgroundcolor\":\"#E5ECF6\",\"gridcolor\":\"white\",\"linecolor\":\"white\",\"showbackground\":true,\"ticks\":\"\",\"zerolinecolor\":\"white\",\"gridwidth\":2}},\"shapedefaults\":{\"line\":{\"color\":\"#2a3f5f\"}},\"annotationdefaults\":{\"arrowcolor\":\"#2a3f5f\",\"arrowhead\":0,\"arrowwidth\":1},\"geo\":{\"bgcolor\":\"white\",\"landcolor\":\"#E5ECF6\",\"subunitcolor\":\"white\",\"showland\":true,\"showlakes\":true,\"lakecolor\":\"white\"},\"title\":{\"x\":0.05},\"mapbox\":{\"style\":\"light\"}}},\"scene\":{\"domain\":{\"x\":[0.0,1.0],\"y\":[0.0,1.0]},\"xaxis\":{\"title\":{\"text\":\"X\"}},\"yaxis\":{\"title\":{\"text\":\"Y\"}},\"zaxis\":{\"title\":{\"text\":\"Z\"}}},\"legend\":{\"tracegroupgap\":0},\"title\":{\"text\":\"3D Scatter Plot\"}},                        {\"responsive\": true}                    ).then(function(){\n",
              "                            \n",
              "var gd = document.getElementById('e0853112-4a2a-45fe-b6f1-94f88b01e54a');\n",
              "var x = new MutationObserver(function (mutations, observer) {{\n",
              "        var display = window.getComputedStyle(gd).display;\n",
              "        if (!display || display === 'none') {{\n",
              "            console.log([gd, 'removed!']);\n",
              "            Plotly.purge(gd);\n",
              "            observer.disconnect();\n",
              "        }}\n",
              "}});\n",
              "\n",
              "// Listen for the removal of the full notebook cells\n",
              "var notebookContainer = gd.closest('#notebook-container');\n",
              "if (notebookContainer) {{\n",
              "    x.observe(notebookContainer, {childList: true});\n",
              "}}\n",
              "\n",
              "// Listen for the clearing of the current output cell\n",
              "var outputEl = gd.closest('.output');\n",
              "if (outputEl) {{\n",
              "    x.observe(outputEl, {childList: true});\n",
              "}}\n",
              "\n",
              "                        })                };                            </script>        </div>\n",
              "</body>\n",
              "</html>"
            ]
          },
          "metadata": {}
        }
      ]
    }
  ]
}